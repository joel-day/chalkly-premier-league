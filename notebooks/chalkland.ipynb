{
 "cells": [
  {
   "cell_type": "markdown",
   "metadata": {},
   "source": [
    "# ChalkJuice Saga"
   ]
  },
  {
   "cell_type": "code",
   "execution_count": 1,
   "metadata": {},
   "outputs": [],
   "source": [
    "import psycopg"
   ]
  },
  {
   "cell_type": "code",
   "execution_count": 8,
   "metadata": {},
   "outputs": [
    {
     "name": "stdout",
     "output_type": "stream",
     "text": [
      "Databases:\n",
      "postgres\n"
     ]
    }
   ],
   "source": [
    "import psycopg\n",
    "\n",
    "passw = 'red33mer'\n",
    "\n",
    "# Connect to your PostgreSQL server (default 'postgres' database)\n",
    "conn = psycopg.connect(f\"host=localhost user=postgres password={passw}\")\n",
    "\n",
    "with conn.cursor() as cur:\n",
    "    # Query to list all databases\n",
    "    cur.execute(\"SELECT datname FROM pg_database WHERE datistemplate = false;\")\n",
    "    databases = cur.fetchall()\n",
    "\n",
    "print(\"Databases:\")\n",
    "for db in databases:\n",
    "    print(db[0])\n",
    "\n",
    "conn.close()\n"
   ]
  },
  {
   "cell_type": "code",
   "execution_count": 2,
   "metadata": {},
   "outputs": [],
   "source": [
    "from packages.helpers.main import generate_player_name\n",
    "\n",
    "import plotly.graph_objects as go\n",
    "import random\n",
    "import numpy as np\n",
    "np.bool8 = np.bool_ \n",
    "import json"
   ]
  },
  {
   "cell_type": "code",
   "execution_count": null,
   "metadata": {},
   "outputs": [],
   "source": [
    "hexasphere_v1.json"
   ]
  },
  {
   "cell_type": "markdown",
   "metadata": {},
   "source": [
    "## Teams"
   ]
  },
  {
   "cell_type": "code",
   "execution_count": 3,
   "metadata": {},
   "outputs": [],
   "source": [
    "class Team:\n",
    "    def __init__(team, name, location, coach, wins):\n",
    "        team.name = name\n",
    "        team.location = location\n",
    "        team.coach = coach\n",
    "        team.wins = wins\n",
    "        team.players = []\n",
    "\n",
    "    def add_player(team, player):\n",
    "        team.players.append(player)\n",
    "\n",
    "    def total_points(team):\n",
    "        return sum(player.points for player in team.players)\n",
    "    \n",
    "    def add_win(team, win):\n",
    "        team.wins += win\n",
    "\n",
    "    def __repr__(team):\n",
    "        return print(team.name, team.wins)\n",
    "\n"
   ]
  },
  {
   "cell_type": "markdown",
   "metadata": {},
   "source": [
    "## Players"
   ]
  },
  {
   "cell_type": "code",
   "execution_count": 4,
   "metadata": {},
   "outputs": [],
   "source": [
    "class Player:\n",
    "    def __init__(self, name, position, points=0):\n",
    "        self.name = name\n",
    "        self.position = position\n",
    "        self.points = points\n",
    "\n",
    "    def add_points(self, points):\n",
    "        self.points += points\n",
    "\n",
    "    def __repr__(self):\n",
    "        return f\"{self.name} ({self.position}) - {self.points} pts\""
   ]
  },
  {
   "cell_type": "code",
   "execution_count": 5,
   "metadata": {},
   "outputs": [],
   "source": [
    "Saint_Louga = Team('Saint Louga', '6423', 'Kia', 0)"
   ]
  },
  {
   "cell_type": "code",
   "execution_count": 6,
   "metadata": {},
   "outputs": [],
   "source": [
    "Saint_Louga.add_win(1)"
   ]
  },
  {
   "cell_type": "code",
   "execution_count": 7,
   "metadata": {},
   "outputs": [
    {
     "name": "stdout",
     "output_type": "stream",
     "text": [
      "{'name': 'Saint Louga', 'location': '6423', 'coach': 'Kia', 'wins': 1, 'players': []}\n"
     ]
    }
   ],
   "source": [
    "print(Saint_Louga.__dict__)"
   ]
  },
  {
   "cell_type": "code",
   "execution_count": 22,
   "metadata": {},
   "outputs": [
    {
     "data": {
      "text/plain": [
       "'UM Nelson'"
      ]
     },
     "execution_count": 22,
     "metadata": {},
     "output_type": "execute_result"
    }
   ],
   "source": [
    "player = generate_player_name()\n",
    "player\n",
    "\n"
   ]
  },
  {
   "cell_type": "code",
   "execution_count": null,
   "metadata": {},
   "outputs": [],
   "source": []
  },
  {
   "cell_type": "markdown",
   "metadata": {},
   "source": [
    "    Velmara: 8,   // 490 tiles on my custom map\n",
    "    Almira: 8,    // 484 tiles on my custom map\n",
    "    Brontis: 8,   // 487 tiles on my custom map\n",
    "    Caldra: 8     // 486 tiles on my custom map"
   ]
  },
  {
   "cell_type": "code",
   "execution_count": null,
   "metadata": {},
   "outputs": [
    {
     "ename": "SyntaxError",
     "evalue": "invalid syntax (3813332840.py, line 1)",
     "output_type": "error",
     "traceback": [
      "  \u001b[36mCell\u001b[39m\u001b[36m \u001b[39m\u001b[32mIn[33]\u001b[39m\u001b[32m, line 1\u001b[39m\n\u001b[31m    \u001b[39m\u001b[31mSaint Louga\u001b[39m\n          ^\n\u001b[31mSyntaxError\u001b[39m\u001b[31m:\u001b[39m invalid syntax\n"
     ]
    }
   ],
   "source": [
    "Almira:\n",
    "\n",
    "Wynloch\n",
    "Wahowa\n",
    "Weslessa\n",
    "Milwrath\n",
    "Mura Pekora\n",
    "Marazani\n",
    "Old Wexley\n",
    "New Wexley\n",
    "\n",
    "\n",
    "Brontis:\n",
    "\n",
    "Brelaine\n",
    "Berrano\n",
    "Barra ba loma\n",
    "Norasha\n",
    "Eos Vala\n",
    "Yosho\n",
    "Yalara\n",
    "Yuresta\n",
    "\n",
    "\n",
    "Velmara:\n",
    "\n",
    "Vosca Noca\n",
    "Varotha\n",
    "Vara ro zoga\n",
    "Kendalla\n",
    "Karethor\n",
    "Krosswyn\n",
    "Gretta Bay\n",
    "Grunwade\n",
    "\n",
    "\n",
    "Caldra:\n",
    "\n",
    "Canbirth\n",
    "Corwela\n",
    "Calurran\n",
    "Jolunhara\n",
    "Jabassa\n",
    "Jar Druen\n",
    "Shalwen\n",
    "Usuma ma Rah\n",
    "\n",
    "\n",
    "\n",
    "\n",
    "\n",
    "\n"
   ]
  },
  {
   "cell_type": "markdown",
   "metadata": {},
   "source": []
  }
 ],
 "metadata": {
  "kernelspec": {
   "display_name": ".venv",
   "language": "python",
   "name": "python3"
  },
  "language_info": {
   "codemirror_mode": {
    "name": "ipython",
    "version": 3
   },
   "file_extension": ".py",
   "mimetype": "text/x-python",
   "name": "python",
   "nbconvert_exporter": "python",
   "pygments_lexer": "ipython3",
   "version": "3.12.9"
  }
 },
 "nbformat": 4,
 "nbformat_minor": 2
}
